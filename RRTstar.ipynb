{
 "cells": [
  {
   "cell_type": "code",
   "execution_count": 34,
   "metadata": {},
   "outputs": [],
   "source": [
    "import numpy as np\n",
    "import math\n",
    "import random\n",
    "import torch\n",
    "import carla\n",
    "import time\n",
    "import matplotlib.pyplot as plt"
   ]
  },
  {
   "cell_type": "code",
   "execution_count": 35,
   "metadata": {},
   "outputs": [],
   "source": [
    "client = carla.Client('localhost', 2000)\n",
    "client.set_timeout(10.0)\n",
    "world = client.load_world('Town03')"
   ]
  },
  {
   "cell_type": "code",
   "execution_count": 36,
   "metadata": {},
   "outputs": [],
   "source": [
    "blueprint_library = world.get_blueprint_library()\n",
    "vehicle_bp = blueprint_library.filter(\"vehicle.audi.tt\")[0]\n",
    "starting_point = world.get_map().get_spawn_points()[0]\n",
    "vehicle = world.try_spawn_actor(vehicle_bp,starting_point)\n",
    "vehicle_pos = vehicle.get_transform()\n",
    "lidar_bp = blueprint_library.find('sensor.lidar.ray_cast')\n",
    "lidar_blueprint = blueprint_library.find(\"sensor.lidar.ray_cast\")\n",
    "lidar_blueprint.set_attribute(\"channels\", str(32))\n",
    "lidar_blueprint.set_attribute(\"points_per_second\", str(100000))\n",
    "lidar_blueprint.set_attribute(\"rotation_frequency\", str(10.0))\n",
    "lidar_blueprint.set_attribute(\"upper_fov\", str(30.0))\n",
    "lidar_blueprint.set_attribute(\"lower_fov\", str(-25.0))\n",
    "lidar_blueprint.set_attribute(\"range\", str(100.0))\n",
    "spectator_rotation = vehicle_pos.rotation\n",
    "lidar_transform = carla.Transform(starting_point.location, spectator_rotation)\n",
    "lidar_sensor = world.spawn_actor(lidar_blueprint, lidar_transform, attach_to = vehicle)"
   ]
  },
  {
   "cell_type": "code",
   "execution_count": null,
   "metadata": {},
   "outputs": [],
   "source": [
    "bounding_box = vehicle.bounding_box\n",
    "vehicle_length = bounding_box.extent.x"
   ]
  },
  {
   "cell_type": "code",
   "execution_count": 38,
   "metadata": {},
   "outputs": [],
   "source": [
    "def get_steering_angle(vehicle_location, target_location):\n",
    "    dx = target_location[0] - vehicle_location.location.x\n",
    "    dy = target_location[1] - vehicle_location.location.y\n",
    "    angle_to_target = math.atan2(dy, dx)\n",
    "    current_yaw = math.radians(vehicle_location.rotation.yaw)\n",
    "    steering_angle = angle_to_target - current_yaw\n",
    "    steering_angle = (steering_angle + math.pi) % (2 * math.pi) - math.pi  # Normalize to [-π, π]\n",
    "    return steering_angle\n",
    "    "
   ]
  },
  {
   "cell_type": "code",
   "execution_count": 39,
   "metadata": {},
   "outputs": [],
   "source": [
    "def calculate_throttle(vehicle_location, target_location):\n",
    "    max_throttle = 0.95\n",
    "    dx = target_location[0] - vehicle_location.location.x\n",
    "    dy = target_location[1] - vehicle_location.location.y\n",
    "    distance_to_target = math.sqrt(dx**2 + dy**2)\n",
    "    # throttle = min(1.0, distance_to_target * 0.05)\n",
    "    if distance_to_target > 20.0:\n",
    "        throttle = max_throttle\n",
    "    elif distance_to_target > 10.0:\n",
    "        throttle = max_throttle * 0.5\n",
    "    else:\n",
    "        throttle = max_throttle * 0.3\n",
    "    return throttle"
   ]
  },
  {
   "cell_type": "code",
   "execution_count": null,
   "metadata": {},
   "outputs": [],
   "source": [
    "# Node class representing a state in the space\n",
    "class Node:\n",
    "    def __init__(self, x, y):\n",
    "        self.x = x\n",
    "        self.y = y\n",
    "        self.parent = None\n",
    "        self.cost = 0\n",
    "\n",
    "# RRT* algorithm\n",
    "class RRTStar:\n",
    "    def __init__(self, vehicle_length, start, goal,map_size, carla_world, vehicle, lidar_sensor,step_size=1.0, max_iter=900):\n",
    "        self.start = Node(start[0],start[1])\n",
    "        self.goal = Node(goal[0], goal[1])\n",
    "        self.map_size = map_size\n",
    "        self.step_size = step_size\n",
    "        self.max_iter = max_iter\n",
    "        self.node_list = [self.start]\n",
    "        self.goal_region_radius = 1.5\n",
    "        self.search_radius = 2.0\n",
    "        self.path = None\n",
    "        self.goal_reached = False\n",
    "        self.carla_world = carla_world\n",
    "        self.vehicle = vehicle\n",
    "        self.lidar_sensor = lidar_sensor \n",
    "        self.lidar_data = []\n",
    "        self.vehicle_length = vehicle_length\n",
    "        \n",
    "    def process_lidar_data(self, data):\n",
    "        points = np.frombuffer(data.raw_data, dtype=np.float32).reshape(-1, 4)  # Each point has 4 values (x, y, z, intensity)\n",
    "        self.lidar_data = points[:, :3]  # Extract x, y, z coordinates\n",
    "        print(\"Lidar Data Updated:\", self.lidar_data)\n",
    "        \n",
    "    def get_lidar_data(self):\n",
    "        self.lidar_sensor.listen(lambda data: self.process_lidar_data(data))\n",
    "        \n",
    "    def get_nearest_node(self, node_list, rand_node):\n",
    "        distances = [np.linalg.norm([node.x - rand_node.x, node.y - rand_node.y]) for node in node_list]\n",
    "        nearest_node_idx = np.argmin(distances)\n",
    "        return node_list[nearest_node_idx]\n",
    "    \n",
    "    def is_collision_free(self, node):\n",
    "        for point in self.lidar_data:\n",
    "            distance = math.sqrt((point[0] - node.x) ** 2 + (point[1] - node.y) ** 2)\n",
    "            if distance <= self.vehicle_length / 2:  # Use vehicle dimensions for clearance\n",
    "                return False\n",
    "        return True\n",
    "    \n",
    "    def get_random_node(self):\n",
    "        if random.random() > 0.2:\n",
    "            return Node(random.uniform(0, self.map_size[0]), random.uniform(0, self.map_size[1]))\n",
    "        else:\n",
    "            return Node(self.goal.x, self.goal.y)\n",
    "    \n",
    "    def choose_parent(self, neighbors, nearest_node, new_node):\n",
    "        \"\"\"Choose the best parent for the new node based on cost.\"\"\"\n",
    "        min_cost = nearest_node.cost + np.linalg.norm([new_node.x - nearest_node.x, new_node.y - nearest_node.y])\n",
    "        best_node = nearest_node\n",
    "        for neighbor in neighbors:\n",
    "            cost = neighbor.cost + np.linalg.norm([new_node.x - neighbor.x, new_node.y - neighbor.y])\n",
    "            if cost < min_cost and self.is_collision_free(neighbor):\n",
    "                best_node = neighbor\n",
    "                min_cost = cost\n",
    "        new_node.cost = min_cost\n",
    "        new_node.parent = best_node\n",
    "        return new_node\n",
    "\n",
    "    def find_neighbors(self, new_node):\n",
    "        \"\"\"Find nearby nodes within the search radius.\"\"\"\n",
    "        return [node for node in self.node_list\n",
    "                if np.linalg.norm([node.x - new_node.x, node.y - new_node.y]) < self.search_radius]\n",
    "\n",
    "    def rewire(self, new_node, neighbors):\n",
    "        \"\"\"Rewire the tree by checking if any neighbor should adopt the new node as a parent.\"\"\"\n",
    "        for neighbor in neighbors:\n",
    "            cost = new_node.cost + np.linalg.norm([neighbor.x - new_node.x, neighbor.y - new_node.y])\n",
    "            if cost < neighbor.cost and self.is_collision_free(neighbor):\n",
    "                neighbor.parent = new_node\n",
    "                neighbor.cost = cost\n",
    "\n",
    "    def reached_goal(self, node):\n",
    "        \"\"\"Check if the goal has been reached.\"\"\"\n",
    "        return np.linalg.norm([node.x - self.goal.x, node.y - self.goal.y]) < self.goal_region_radius\n",
    "\n",
    "    def steer(self, from_node, to_node):\n",
    "        \"\"\"Steer from one node to another, step-by-step.\"\"\"\n",
    "        theta = math.atan2(to_node.y - from_node.y, to_node.x - from_node.x)\n",
    "        new_node = Node(from_node.x + self.step_size * math.cos(theta),\n",
    "                        from_node.y + self.step_size * math.sin(theta))\n",
    "        new_node.cost = from_node.cost + self.step_size\n",
    "        new_node.parent = from_node\n",
    "        return new_node\n",
    "    \n",
    "    def move_vehicle_along_path(self):\n",
    "        if self.path:\n",
    "            for point in self.path:\n",
    "                target_location = point   \n",
    "                vehicle_pos = self.vehicle.get_transform()  \n",
    "                steering_angle = get_steering_angle(vehicle_pos, target_location)\n",
    "                steering = steering_angle * 0.02\n",
    "                throttle = calculate_throttle(vehicle_pos, target_location)\n",
    "                print(vehicle_pos)\n",
    "                self.vehicle.apply_control(carla.VehicleControl(throttle=throttle, brake=0.0, steer=steering))\n",
    "                print(\"##################\")\n",
    "                print(self.vehicle.get_transform().location)\n",
    "                print(\"##################\")\n",
    "                print(vehicle.get_transform().location)\n",
    "        else:\n",
    "            self.vehicle.apply_control(carla.VehicleControl(throttle=0, brake=10.0, steer=0))\n",
    "            print(\"no path to follow.\")\n",
    "\n",
    "    def generate_final_path(self, goal_node):\n",
    "        \"\"\"Generate the final path from the start to the goal and drive along it.\"\"\"\n",
    "        path = []\n",
    "        node = goal_node\n",
    "        while node is not None:\n",
    "            path.append([node.x, node.y])\n",
    "            node = node.parent\n",
    "        path = path[::-1]\n",
    "        print(path)\n",
    "        X = [point[0] for point in path]\n",
    "        Y = [point[1] for point in path]\n",
    "        plt.scatter(X, Y, color='red', label='path')\n",
    "        plt.xlabel(\"X\")\n",
    "        plt.ylabel(\"Y\")\n",
    "        plt.title(\"Path Visualization\")\n",
    "        plt.legend()\n",
    "        plt.show()\n",
    "        return path        \n",
    "\n",
    "    def plan(self):\n",
    "        \"\"\"Main RRT* planning loop.\"\"\"\n",
    "        for i in range(self.max_iter):\n",
    "            \n",
    "            rand_node = self.get_random_node()\n",
    "            nearest_node = self.get_nearest_node(self.node_list, rand_node)\n",
    "            new_node = self.steer(nearest_node, rand_node)\n",
    "\n",
    "            if self.is_collision_free(new_node):\n",
    "                neighbors = self.find_neighbors(new_node)\n",
    "                new_node = self.choose_parent(neighbors, nearest_node, new_node)\n",
    "                self.node_list.append(new_node)\n",
    "                self.rewire(new_node, neighbors)\n",
    "\n",
    "            if (self.reached_goal(new_node)):\n",
    "                    self.path = self.generate_final_path(new_node)\n",
    "                    self.goal_reached = True\n",
    "                    self.move_vehicle_along_path()\n",
    "                    return\n",
    "        if not self.goal_reached:\n",
    "                    print(\"Goal not reached after maximum iterations. Adjusting parameters...\")\n",
    "                    # self.step_size *= 0.8 \n",
    "                    # self.max_iter += 100  \n",
    "                    # print(f\"New step size: {self.step_size}, New max iterations: {self.max_iter}\")\n",
    "    \n",
    "    def prints(self):\n",
    "        print(f\"Goal Reached: {self.goal_reached}\")\n",
    "        print(f\"Number of Nodes: {len(self.node_list)}\") \n",
    "        \n",
    "        "
   ]
  },
  {
   "cell_type": "code",
   "execution_count": 41,
   "metadata": {},
   "outputs": [],
   "source": [
    "def main():  \n",
    "    try:\n",
    "        start_location = [starting_point.location.x, starting_point.location.y]\n",
    "        goal_location = [start_location[0]+ 5, start_location[1] + 2]\n",
    "        rrt_star = RRTStar(start=start_location, vehicle_length= vehicle_length,goal=goal_location, map_size=[100, 100], carla_world=world, vehicle=vehicle, lidar_sensor=lidar_sensor)\n",
    "        rrt_star.plan()\n",
    "        rrt_star.prints()\n",
    "    finally:\n",
    "        print(\"Simulation ended.\")"
   ]
  },
  {
   "cell_type": "code",
   "execution_count": 42,
   "metadata": {},
   "outputs": [
    {
     "name": "stdout",
     "output_type": "stream",
     "text": [
      "[[-6.446169853210449, -79.05502319335938], [-6.1237913104289134, -78.1084123571896], [-4.38833057325939, -77.33963661570141], [-3.392976933827078, -77.243349895595], [-2.038932175366642, -76.77593972586396]]\n"
     ]
    },
    {
     "data": {
      "image/png": "[encoded data removed]",
      "text/plain": [
       "<Figure size 640x480 with 1 Axes>"
      ]
     },
     "metadata": {},
     "output_type": "display_data"
    },
    {
     "name": "stdout",
     "output_type": "stream",
     "text": [
      "Transform(Location(x=-6.446170, y=-79.055023, z=-0.012044), Rotation(pitch=0.000000, yaw=92.004189, roll=0.000000))\n",
      "##################\n",
      "Location(x=-6.446170, y=-79.055023, z=-0.012044)\n",
      "##################\n",
      "Location(x=-6.446170, y=-79.055023, z=-0.012044)\n",
      "Transform(Location(x=-6.446170, y=-79.055023, z=-0.012044), Rotation(pitch=0.000000, yaw=92.004189, roll=0.000000))\n",
      "##################\n",
      "Location(x=-6.446170, y=-79.055023, z=-0.012044)\n",
      "##################\n",
      "Location(x=-6.446170, y=-79.055023, z=-0.012044)\n",
      "Transform(Location(x=-6.446170, y=-79.055023, z=-0.012044), Rotation(pitch=0.000000, yaw=92.004189, roll=0.000000))\n",
      "##################\n",
      "Location(x=-6.446170, y=-79.055023, z=-0.012044)\n",
      "##################\n",
      "Location(x=-6.446170, y=-79.055023, z=-0.012044)\n",
      "Transform(Location(x=-6.446170, y=-79.055023, z=-0.012044), Rotation(pitch=0.000000, yaw=92.004189, roll=0.000000))\n",
      "##################\n",
      "Location(x=-6.446170, y=-79.055023, z=-0.012044)\n",
      "##################\n",
      "Location(x=-6.446170, y=-79.055023, z=-0.012044)\n",
      "Transform(Location(x=-6.446170, y=-79.055023, z=-0.012044), Rotation(pitch=0.000000, yaw=92.004189, roll=0.000000))\n",
      "##################\n",
      "Location(x=-6.446170, y=-79.055023, z=-0.012044)\n",
      "##################\n",
      "Location(x=-6.446170, y=-79.055023, z=-0.012044)\n",
      "Goal Reached: True\n",
      "Number of Nodes: 10\n",
      "Simulation ended.\n"
     ]
    }
   ],
   "source": [
    "if __name__ == \"__main__\":\n",
    "    main()"
   ]
  },
  {
   "cell_type": "code",
   "execution_count": 43,
   "metadata": {},
   "outputs": [
    {
     "data": {
      "text/plain": [
       "False"
      ]
     },
     "execution_count": 43,
     "metadata": {},
     "output_type": "execute_result"
    }
   ],
   "source": [
    "vehicle.destroy()\n",
    "lidar_sensor.destroy()"
   ]
  },
  {
   "cell_type": "code",
   "execution_count": null,
   "metadata": {},
   "outputs": [],
   "source": []
  }
 ],
 "metadata": {
  "kernelspec": {
   "display_name": "carla_env",
   "language": "python",
   "name": "python3"
  },
  "language_info": {
   "codemirror_mode": {
    "name": "ipython",
    "version": 3
   },
   "file_extension": ".py",
   "mimetype": "text/x-python",
   "name": "python",
   "nbconvert_exporter": "python",
   "pygments_lexer": "ipython3",
   "version": "3.7.16"
  }
 },
 "nbformat": 4,
 "nbformat_minor": 2
}
